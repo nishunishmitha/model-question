{
 "cells": [
  {
   "cell_type": "code",
   "execution_count": 23,
   "id": "d82e656e",
   "metadata": {},
   "outputs": [
    {
     "name": "stdout",
     "output_type": "stream",
     "text": [
      "['be easily', 'between the', 'can be', 'content so', 'correlations trends', 'data can', 'data in', 'data visualization', 'easily understood', 'express your', 'in visual', 'is way', 'patterns correlations', 'so that', 'that patterns', 'the data', 'to express', 'trends between', 'visual content', 'visualization is', 'way to', 'your data']\n",
      "[[1 1 1 1 1 1 1 1 1 1 1 1 1 1 1 1 1 1 1 1 1 1]]\n"
     ]
    }
   ],
   "source": [
    "from sklearn.feature_extraction.text import CountVectorizer\n",
    "sents=[\"data visualization is a way to express your data in a visual content so that patterns,correlations,trends between the data can be easily understood\"]\n",
    " \n",
    "\n",
    "cv=CountVectorizer(ngram_range=(2,2))\n",
    "x=cv.fit_transform(sents)\n",
    "x=x.toarray()\n",
    "vocabulary=sorted(cv.vocabulary_.keys())\n",
    "print(vocabulary)\n",
    "print(x)"
   ]
  },
  {
   "cell_type": "code",
   "execution_count": 24,
   "id": "4e323171",
   "metadata": {},
   "outputs": [
    {
     "name": "stdout",
     "output_type": "stream",
     "text": [
      "['be easily understood', 'between the data', 'can be easily', 'content so that', 'correlations trends between', 'data can be', 'data in visual', 'data visualization is', 'express your data', 'in visual content', 'is way to', 'patterns correlations trends', 'so that patterns', 'that patterns correlations', 'the data can', 'to express your', 'trends between the', 'visual content so', 'visualization is way', 'way to express', 'your data in']\n",
      "[[1 1 1 1 1 1 1 1 1 1 1 1 1 1 1 1 1 1 1 1 1]]\n"
     ]
    }
   ],
   "source": [
    "from sklearn.feature_extraction.text import CountVectorizer\n",
    "sents=[\"data visualization is a way to express your data in a visual content so that patterns,correlations,trends between the data can be easily understood\"]\n",
    " \n",
    "cv=CountVectorizer(ngram_range=(3,3))\n",
    "x=cv.fit_transform(sents)\n",
    "x=x.toarray()\n",
    "vocabulary=sorted(cv.vocabulary_.keys())\n",
    "print(vocabulary)\n",
    "print(x)"
   ]
  },
  {
   "cell_type": "code",
   "execution_count": 25,
   "id": "38bf43c9",
   "metadata": {},
   "outputs": [
    {
     "name": "stdout",
     "output_type": "stream",
     "text": [
      "['be', 'between', 'can', 'content', 'correlations', 'data', 'easily', 'express', 'in', 'is', 'patterns', 'so', 'that', 'the', 'to', 'trends', 'understood', 'visual', 'visualization', 'way', 'your']\n",
      "[[1 1 1 1 1 3 1 1 1 1 1 1 1 1 1 1 1 1 1 1 1]]\n"
     ]
    }
   ],
   "source": [
    "from sklearn.feature_extraction.text import CountVectorizer\n",
    "sents=[\"data visualization is a way to express your data in a visual content so that patterns,correlations,trends between the data can be easily understood\"]\n",
    "cv=CountVectorizer()\n",
    "x=cv.fit_transform(sents)\n",
    "x=x.toarray()\n",
    "vocabulary=sorted(cv.vocabulary_.keys())\n",
    "print(vocabulary)\n",
    "print(x)"
   ]
  },
  {
   "cell_type": "code",
   "execution_count": 26,
   "id": "da69a916",
   "metadata": {},
   "outputs": [
    {
     "name": "stdout",
     "output_type": "stream",
     "text": [
      "['data', 'visualization', 'is', 'a', 'way', 'to', 'express', 'your', 'data', 'in', 'a', 'visual', 'content', 'so', 'that', 'patterns', ',', 'correlations', ',', 'trends', 'between', 'the', 'data', 'can', 'be', 'easily', 'understood']\n",
      "['data', 'visualization', 'way', 'express', 'data', 'visual', 'content', 'patterns', ',', 'correlations', ',', 'trends', 'data', 'easily', 'understood']\n"
     ]
    }
   ],
   "source": [
    "from nltk.corpus import stopwords\n",
    "from nltk.tokenize import word_tokenize\n",
    " \n",
    "example_sent = \"\"\"data visualization is a way to express your data in a visual content so that patterns,correlations,trends between the data can be easily understood\"\"\"\n",
    " \n",
    "stop_words = set(stopwords.words('english'))\n",
    " \n",
    "word_tokens = word_tokenize(example_sent)\n",
    "# converts the words in word_tokens to lower case and then checks whether\n",
    "#they are present in stop_words or not\n",
    "filtered_sentence = [w for w in word_tokens if not w.lower() in stop_words]\n",
    "#with no lower case conversion\n",
    "filtered_sentence = []\n",
    " \n",
    "for w in word_tokens:\n",
    "    if w not in stop_words:\n",
    "        filtered_sentence.append(w)\n",
    " \n",
    "print(word_tokens)\n",
    "print(filtered_sentence)"
   ]
  },
  {
   "cell_type": "code",
   "execution_count": 27,
   "id": "cc283119",
   "metadata": {},
   "outputs": [
    {
     "name": "stdout",
     "output_type": "stream",
     "text": [
      "data visualization is a way to express your data in a visual content so that patternscorrelationstrends between the data can be easily understood\n"
     ]
    }
   ],
   "source": [
    "def Punctuation(string):\n",
    " \n",
    "    # punctuation marks\n",
    "    punctuations = '''!()-[]{};:'\"\\,<>./?@#$%^&*_~'''\n",
    " \n",
    "\n",
    "    for x in string.lower():\n",
    "        if x in punctuations:\n",
    "            string = string.replace(x, \"\")\n",
    " \n",
    "    # Print string without punctuation\n",
    "    print(string)\n",
    " \n",
    "# Driver program\n",
    "string = \"data visualization is a way to express your data in a visual content so that patterns,correlations,trends between the data can be easily understood\"\n",
    "Punctuation(string)"
   ]
  },
  {
   "cell_type": "code",
   "execution_count": null,
   "id": "31bb1618",
   "metadata": {},
   "outputs": [],
   "source": []
  }
 ],
 "metadata": {
  "kernelspec": {
   "display_name": "Python 3 (ipykernel)",
   "language": "python",
   "name": "python3"
  },
  "language_info": {
   "codemirror_mode": {
    "name": "ipython",
    "version": 3
   },
   "file_extension": ".py",
   "mimetype": "text/x-python",
   "name": "python",
   "nbconvert_exporter": "python",
   "pygments_lexer": "ipython3",
   "version": "3.9.12"
  }
 },
 "nbformat": 4,
 "nbformat_minor": 5
}
